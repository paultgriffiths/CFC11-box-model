{
 "cells": [
  {
   "cell_type": "code",
   "execution_count": 3,
   "metadata": {},
   "outputs": [],
   "source": [
    "import numpy as np\n",
    "from scipy.integrate import odeint\n",
    "import pylab as plt\n",
    "\n",
    "def CFCModel(y, t):\n",
    "    bank = y[1]\n",
    "    extra = y[2]\n",
    "    if t>10*yr:\n",
    "        dy0 = bank + extra - k1*y[0]\n",
    "    else:\n",
    "        dy0 = bank - k1*y[0]\n",
    "    return dy0, 0., 0.\n",
    "\n",
    "\n",
    "RMMCFC11=137.37 # g per mol\n",
    "yr=365.*24.*3600.\n",
    "k1 = 1./(55.*yr)\n",
    "\n",
    "Ggperyearinpptv = 1e6/5e18 *(28.8/RMMCFC11) *1e12/ yr #  Gg per year -> molecules per second\n",
    "\n",
    "time = np.linspace(start=0.0, stop=20*yr, num=20)\n",
    "\n",
    "# null case\n",
    "init = 280. # pptv\n",
    "bank = 0. \n",
    "extra = 0.\n",
    "yinit = np.array([init, bank, extra])\n",
    "y0 =  odeint(CFCModel, yinit,  time)\n",
    "\n",
    "# case with bank emission\n",
    "init = 280. # pptv\n",
    "bank = 52.* Ggperyearinpptv # 52 Gg per year -> pptv per sec\n",
    "extra = 0.\n",
    "yinit = np.array([init, bank, extra])\n",
    "y1 =  odeint(CFCModel, yinit,  time)\n",
    "\n",
    "# case with bank emission and dead lobsters\n",
    "init = 280. # pptv\n",
    "bank =  52.* Ggperyearinpptv # 52 Gg per year -> pptv per sec\n",
    "extra = 13.* Ggperyearinpptv\n",
    "yinit = np.array([init, bank, extra])\n",
    "y2 =  odeint(CFCModel, yinit,  time)\n",
    "\n",
    "\n"
   ]
  },
  {
   "cell_type": "code",
   "execution_count": 4,
   "metadata": {},
   "outputs": [
    {
     "data": {
      "image/png": "[encoded data removed]",
      "text/plain": [
       "<matplotlib.figure.Figure at 0x1054cd450>"
      ]
     },
     "metadata": {},
     "output_type": "display_data"
    }
   ],
   "source": [
    "plt.hold(True)\n",
    "plt.plot(time/ (360.*24.*3600.), y0[:,0], color='red', lw=1)#, time, y[:,1]) # y[:,0] is the first column of y\n",
    "plt.plot(time/ (360.*24.*3600.), y1[:,0], lw=6, alpha=0.2)#, time, y[:,1]) # y[:,0] is the first column of y\n",
    "plt.plot(time/ (360.*24.*3600.), y2[:,0], lw=3, alpha=0.4)\n",
    "plt.xlabel('')\n",
    "plt.ylabel('CFC11 / pptv')\n",
    "#plt.ylim(140,280)\n",
    "plt.show()"
   ]
  },
  {
   "cell_type": "code",
   "execution_count": null,
   "metadata": {},
   "outputs": [],
   "source": [
    "np.shape(time)"
   ]
  },
  {
   "cell_type": "code",
   "execution_count": null,
   "metadata": {
    "collapsed": true
   },
   "outputs": [],
   "source": []
  }
 ],
 "metadata": {
  "kernelspec": {
   "display_name": "Python [conda env:basemap]",
   "language": "python",
   "name": "conda-env-basemap-py"
  },
  "language_info": {
   "codemirror_mode": {
    "name": "ipython",
    "version": 2
   },
   "file_extension": ".py",
   "mimetype": "text/x-python",
   "name": "python",
   "nbconvert_exporter": "python",
   "pygments_lexer": "ipython2",
   "version": "2.7.12"
  }
 },
 "nbformat": 4,
 "nbformat_minor": 2
}
