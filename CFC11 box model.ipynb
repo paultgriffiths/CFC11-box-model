{
 "cells": [
  {
   "cell_type": "code",
   "execution_count": 1,
   "metadata": {
    "collapsed": true
   },
   "outputs": [],
   "source": [
    "import pylab as plt\n",
    "import numpy as np\n",
    "from scipy.integrate import odeint\n",
    "import pandas as pd"
   ]
  },
  {
   "cell_type": "code",
   "execution_count": 2,
   "metadata": {},
   "outputs": [
    {
     "name": "stderr",
     "output_type": "stream",
     "text": [
      "/Users/ptg21/anaconda/envs/basemap/lib/python2.7/site-packages/ipykernel/__main__.py:1: ParserWarning: Falling back to the 'python' engine because the 'c' engine does not support regex separators (separators > 1 char and different from '\\s+' are interpreted as regex); you can avoid this warning by specifying engine='python'.\n",
      "  if __name__ == '__main__':\n"
     ]
    }
   ],
   "source": [
    "data = pd.read_csv('HATS_global_F11.dat', sep=r\"\\s*\", parse_dates=[['HATS_F11_YYYY', 'HATS_F11_MM']])\n",
    "data.index=data['HATS_F11_YYYY_HATS_F11_MM']"
   ]
  },
  {
   "cell_type": "code",
   "execution_count": 3,
   "metadata": {
    "collapsed": true
   },
   "outputs": [],
   "source": [
    "def CFCModel(y, t):\n",
    "    bank = y[1]\n",
    "    extra = y[2]\n",
    "    tstart = y[3]\n",
    "    tend = y[4]\n",
    "    # add an extra source term between tstart and tend\n",
    "    if t>tstart*yr and t<tend*yr:\n",
    "        dy0 = bank + extra - k1*y[0]\n",
    "    else:\n",
    "        dy0 = bank - k1*y[0]\n",
    "    return dy0, 0., 0., 0., 0."
   ]
  },
  {
   "cell_type": "code",
   "execution_count": 9,
   "metadata": {
    "collapsed": true
   },
   "outputs": [],
   "source": [
    "nyrs = 60.\n",
    "extrastart = 15.\n",
    "extraend = 25.\n",
    "\n",
    "# FIX ME!!\n",
    "RMMCFC11=137.37 # g per mol\n",
    "yr=365.*24.*3600.\n",
    "k1 = 1./(55.*yr)\n",
    "\n",
    "# conversion factors\n",
    "Ggperyearinpptv = 1e6/5e18 *(28.8/RMMCFC11) *1e12/ yr #  Gg per year -> molecules per second\n",
    "\n",
    "# time array for solution \n",
    "time = np.linspace(start=0.0, stop=nyrs*yr, num=nyrs)"
   ]
  },
  {
   "cell_type": "code",
   "execution_count": 10,
   "metadata": {},
   "outputs": [
    {
     "data": {
      "image/png": "[encoded data removed]",
      "text/plain": [
       "<matplotlib.figure.Figure at 0x107be2c10>"
      ]
     },
     "metadata": {},
     "output_type": "display_data"
    }
   ],
   "source": [
    "# null case\n",
    "init = 262.5 # pptv\n",
    "bank = 0. \n",
    "extra = 0.\n",
    "yinit = np.array([init, bank, extra, extrastart, extraend])\n",
    "y0 =  odeint(CFCModel, yinit,  time)\n",
    "\n",
    "# case with bank emission\n",
    "init = 262.5 # pptv\n",
    "bank = 60.* Ggperyearinpptv # 52 Gg per year -> pptv per sec\n",
    "extra = 0.\n",
    "yinit = np.array([init, bank, extra, extrastart, extraend])\n",
    "y1 =  odeint(CFCModel, yinit,  time)\n",
    "\n",
    "# case with bank emission and dead lobsters\n",
    "init = 262.5 # pptv\n",
    "bank =  60.* Ggperyearinpptv # 52 Gg per year -> pptv per sec\n",
    "extra = 20.* Ggperyearinpptv\n",
    "yinit = np.array([init, bank, extra, extrastart, extraend])\n",
    "y2 =  odeint(CFCModel, yinit,  time)\n",
    "\n",
    "# create timeseries for plotting with correct date time indices\n",
    "times = pd.date_range(start='1/1/1999', periods=nyrs, freq='A')\n",
    "y0ts=pd.Series(data=y0[:,0], index=times)\n",
    "y1ts=pd.Series(data=y1[:,0], index=times)\n",
    "y2ts=pd.Series(data=y2[:,0], index=times)\n",
    "\n",
    "# plot the data\n",
    "ax = plt.gca()\n",
    "#ts.plot(figsize=(8,5))\n",
    "y1ts.plot(lw=2, ax=ax)\n",
    "y2ts.plot(ax=ax)\n",
    "data['HATS_Global_F11'].plot(lw=5, alpha=0.4, ax=ax)\n",
    "ax.set_title('CFC11 Mixing ratio')\n",
    "ax.set_ylabel('CFC11 mixing ratio / pptv')\n",
    "ax.set_xlabel('Time / years')\n",
    "ax.set_ylim([140,300])\n",
    "plt.show()"
   ]
  },
  {
   "cell_type": "code",
   "execution_count": null,
   "metadata": {
    "collapsed": true
   },
   "outputs": [],
   "source": []
  }
 ],
 "metadata": {
  "kernelspec": {
   "display_name": "Python [conda env:basemap]",
   "language": "python",
   "name": "conda-env-basemap-py"
  },
  "language_info": {
   "codemirror_mode": {
    "name": "ipython",
    "version": 2
   },
   "file_extension": ".py",
   "mimetype": "text/x-python",
   "name": "python",
   "nbconvert_exporter": "python",
   "pygments_lexer": "ipython2",
   "version": "2.7.12"
  }
 },
 "nbformat": 4,
 "nbformat_minor": 2
}
