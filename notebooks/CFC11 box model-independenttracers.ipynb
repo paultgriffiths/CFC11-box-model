{
 "cells": [
  {
   "cell_type": "code",
   "execution_count": 2,
   "metadata": {
    "collapsed": true
   },
   "outputs": [],
   "source": [
    "import pylab as plt\n",
    "import numpy as np\n",
    "from scipy.integrate import odeint\n",
    "import pandas as pd"
   ]
  },
  {
   "cell_type": "code",
   "execution_count": 3,
   "metadata": {},
   "outputs": [
    {
     "name": "stderr",
     "output_type": "stream",
     "text": [
      "/Users/ptg21/anaconda/envs/basemap/lib/python2.7/site-packages/ipykernel/__main__.py:1: ParserWarning: Falling back to the 'python' engine because the 'c' engine does not support regex separators (separators > 1 char and different from '\\s+' are interpreted as regex); you can avoid this warning by specifying engine='python'.\n",
      "  if __name__ == '__main__':\n"
     ]
    }
   ],
   "source": [
    "data = pd.read_csv('HATS_global_F11.dat', sep=r\"\\s*\", parse_dates=[['HATS_F11_YYYY', 'HATS_F11_MM']])\n",
    "data.index=data['HATS_F11_YYYY_HATS_F11_MM']"
   ]
  },
  {
   "cell_type": "code",
   "execution_count": 20,
   "metadata": {
    "collapsed": true
   },
   "outputs": [],
   "source": [
    "def CFCModel(y, t):\n",
    "    bank = y[4]\n",
    "    # add an extra source term between tstart and tend\n",
    "    if t>5*yr and t<15*yr:\n",
    "        dy0 = bank - k1*y[0]\n",
    "    else:\n",
    "        dy0 = - k1*y[0]\n",
    "    if t>5*yr and t<10*yr:\n",
    "        dy1 = bank - k1*y[1]\n",
    "    else:\n",
    "        dy1 = - k1*y[1]\n",
    "        \n",
    "    if t>10*yr and t<15*yr:\n",
    "        dy2 = bank - k1*y[2]\n",
    "    else:\n",
    "        dy2 = - k1*y[2]\n",
    "    dy3 = -k1*y[3]\n",
    "    return dy0, dy1, dy2, dy3,0."
   ]
  },
  {
   "cell_type": "code",
   "execution_count": 21,
   "metadata": {
    "collapsed": true
   },
   "outputs": [],
   "source": [
    "nyrs = 60.\n",
    "extrastart = 15.\n",
    "extraend = 25.\n",
    "\n",
    "# FIX ME!!\n",
    "RMMCFC11=137.37 # g per mol\n",
    "yr=365.*24.*3600.\n",
    "k1 = 1./(55.*yr)\n",
    "\n",
    "# conversion factors\n",
    "Ggperyearinpptv = 1e6/5e18 *(28.8/RMMCFC11) *1e12/ yr #  Gg per year -> molecules per second\n",
    "\n",
    "# time array for solution \n",
    "time = np.linspace(start=0.0, stop=nyrs*yr, num=nyrs)"
   ]
  },
  {
   "cell_type": "code",
   "execution_count": 22,
   "metadata": {
    "collapsed": true
   },
   "outputs": [],
   "source": [
    "# null case\n",
    "init = 262.5 # pptv\n",
    "bank = 30. \n",
    "yinit = np.array([init, init, init, init, bank*Ggperyearinpptv])\n",
    "y0 =  odeint(CFCModel, yinit,  time)\n",
    "\n",
    "# create timeseries for plotting with correct date time indices\n",
    "times = pd.date_range(start='1/1/1999', periods=nyrs, freq='A')\n",
    "\n",
    "A=pd.Series(data=y0[:,0]-y0[:,3], index=times)\n",
    "B=pd.Series(data=y0[:,1]-y0[:,3], index=times)\n",
    "C=pd.Series(data=y0[:,2]-y0[:,3], index=times)\n",
    "\n",
    "D = B+C"
   ]
  },
  {
   "cell_type": "code",
   "execution_count": 28,
   "metadata": {},
   "outputs": [
    {
     "data": {
      "image/png": "[encoded data removed]",
      "text/plain": [
       "<matplotlib.figure.Figure at 0x107ddb390>"
      ]
     },
     "metadata": {},
     "output_type": "display_data"
    }
   ],
   "source": [
    "# plot the datax\n",
    "plt.figure(figsize=(8,8))\n",
    "plt.subplot(2,2,1)\n",
    "A.plot(lw=8, alpha=0.2, label='A')\n",
    "B.plot(lw=2, label='B')\n",
    "C.plot(lw=2, label='C')\n",
    "D.plot(lw=1,style='--', color='black',label='D')\n",
    "plt.legend()\n",
    "#plt.ylim([140,40])\n",
    "\n",
    "\n",
    "# plt.subplot(2,2,4)\n",
    "# data['HATS_Global_F11'].plot(lw=5, alpha=0.4)\n",
    "# plt.ylim([140,300])\n",
    "#plt.xlim(0,5)\n",
    "plt.show()"
   ]
  },
  {
   "cell_type": "code",
   "execution_count": null,
   "metadata": {
    "collapsed": true
   },
   "outputs": [],
   "source": []
  }
 ],
 "metadata": {
  "kernelspec": {
   "display_name": "Python [conda env:basemap]",
   "language": "python",
   "name": "conda-env-basemap-py"
  },
  "language_info": {
   "codemirror_mode": {
    "name": "ipython",
    "version": 2
   },
   "file_extension": ".py",
   "mimetype": "text/x-python",
   "name": "python",
   "nbconvert_exporter": "python",
   "pygments_lexer": "ipython2",
   "version": "2.7.12"
  }
 },
 "nbformat": 4,
 "nbformat_minor": 2
}
